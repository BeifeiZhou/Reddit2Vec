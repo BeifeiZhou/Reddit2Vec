{
 "cells": [
  {
   "cell_type": "markdown",
   "metadata": {},
   "source": [
    "This Notebook is practice for a SparkContext Utilizing JSON"
   ]
  },
  {
   "cell_type": "code",
   "execution_count": 1,
   "metadata": {
    "collapsed": true
   },
   "outputs": [],
   "source": [
    "from pyspark import SparkContext\n",
    "from pyspark.sql import HiveContext\n",
    "\n",
    "sc = SparkContext('local[4]')\n",
    "sql = HiveContext(sc)"
   ]
  },
  {
   "cell_type": "code",
   "execution_count": 3,
   "metadata": {
    "collapsed": false
   },
   "outputs": [],
   "source": [
    "comments = sql.read.json(\"/Users/marci/Desktop/sample100.txt\")"
   ]
  },
  {
   "cell_type": "code",
   "execution_count": 4,
   "metadata": {
    "collapsed": false
   },
   "outputs": [
    {
     "name": "stdout",
     "output_type": "stream",
     "text": [
      "root\n",
      " |-- archived: boolean (nullable = true)\n",
      " |-- author: string (nullable = true)\n",
      " |-- author_flair_css_class: string (nullable = true)\n",
      " |-- author_flair_text: string (nullable = true)\n",
      " |-- body: string (nullable = true)\n",
      " |-- controversiality: long (nullable = true)\n",
      " |-- created_utc: string (nullable = true)\n",
      " |-- distinguished: string (nullable = true)\n",
      " |-- downs: long (nullable = true)\n",
      " |-- edited: string (nullable = true)\n",
      " |-- gilded: long (nullable = true)\n",
      " |-- id: string (nullable = true)\n",
      " |-- link_id: string (nullable = true)\n",
      " |-- name: string (nullable = true)\n",
      " |-- parent_id: string (nullable = true)\n",
      " |-- retrieved_on: long (nullable = true)\n",
      " |-- score: long (nullable = true)\n",
      " |-- score_hidden: boolean (nullable = true)\n",
      " |-- subreddit: string (nullable = true)\n",
      " |-- subreddit_id: string (nullable = true)\n",
      " |-- ups: long (nullable = true)\n",
      "\n"
     ]
    }
   ],
   "source": [
    "comments.printSchema()"
   ]
  },
  {
   "cell_type": "code",
   "execution_count": 5,
   "metadata": {
    "collapsed": true
   },
   "outputs": [],
   "source": [
    "# Set DataFrame to Temp SQL Table\n",
    "comments.registerTempTable('comments')"
   ]
  },
  {
   "cell_type": "code",
   "execution_count": 9,
   "metadata": {
    "collapsed": false
   },
   "outputs": [],
   "source": [
    "# Count number of comments\n",
    "sub_com = sql.sql(\"SELECT subreddit, COLLECT_LIST(body) FROM comments GROUP BY subreddit\")"
   ]
  },
  {
   "cell_type": "code",
   "execution_count": 10,
   "metadata": {
    "collapsed": false
   },
   "outputs": [
    {
     "data": {
      "text/plain": [
       "[Row(subreddit=u'EliteDangerous', _c1=[u\"I had one to kill pirates in an unclaimed system so when I was there all I had to do wall drop in to USS and if I wasn't attacked I would scan the ships there and if they came up with no sub faction I shot them add it counted. \"]),\n",
       " Row(subreddit=u'hiphopheads', _c1=[u'says you my g']),\n",
       " Row(subreddit=u'elliottsmith', _c1=[u\"Mic City Sons would be the most accessible Heatmiser record for the Elliott fan. It was recorded shortly after the self-titled album (95') and contains the familiar style and melodies we know from his solo albums.\\n\\n[Here's](https://www.youtube.com/watch?v=7OHdCGnFSH8) a good example. Neil's contributions to that album are also decent. \\n\\nI also really like [this](https://www.youtube.com/watch?v=R2_4hrbX_68&amp;index=4&amp;list=PL3BNH11YlQMPPDRHklJxwnux5YglmgEBP) tune from their less well known EP 'Yellow no. 5'.\"]),\n",
       " Row(subreddit=u'DestinyTheGame', _c1=[u\"THIS. I've always wondered why they couldn't provide a list there similar to the roster screen. \\n\\nAnd for the roster screen, could you at least pop up the list when I hover over it instead of having to click in and back out?\"]),\n",
       " Row(subreddit=u'nba', _c1=[u'and thanks for making it so much better! /s\\n']),\n",
       " Row(subreddit=u'beercanada', _c1=[u'Thats ones gonna age for another year! ']),\n",
       " Row(subreddit=u'leagueoflegends', _c1=[u\"You're 100% right.\\n\\nNaut is one of the only tanks I'm comfortable playing in lane (or at all; I'm an awful tank), but I've always felt so meh about his W.  Like, why am I hitting stuff with a giant anchor to apply a DoT?  I feel like it could be made so much better, especially with his passive, Q, E, and ult being as iconic and fulfilling as they are.\"]),\n",
       " Row(subreddit=u'roosterteeth', _c1=[u'I would say just a coincidence, it would seem weird for a death to mention a minor moment in a podcast\\n\\nAlso considering that podcast came out over a year ago, that makes it more unlikely']),\n",
       " Row(subreddit=u'HistoricalPowers', _c1=[u'I am not accepting any of your \"schillings\". I want your land.']),\n",
       " Row(subreddit=u'TrollXChromosomes', _c1=[u'The greater good.']),\n",
       " Row(subreddit=u'dbz', _c1=[u\"Frieza has been training sooooo doubt he got powers from someone else. he's been revived has been training and now has a new form that makes him much more powerful. Pretty simple/basic to me. \"]),\n",
       " Row(subreddit=u'PuzzleAndDragons', _c1=[u'Thanks same here!']),\n",
       " Row(subreddit=u'playrust', _c1=[u\"I totally agree, Bladess. Why follow the trend when they have an opportunity to create more? Mutants or some eerie-arse robots that may or may not be ex-military tech would be brilliant. The latter would have to be suitable rare, however, to make those brief encounters even more terrifying and deadly. If they do re-introduce blueprints like Legacy I imagine mutants as being more appropriate for abandoned buildings and loot points; cannibalistic bands pushed to the edge of society, inhabiting old ruins and maybe even one or two caves. Imagine if they even spawned small bands in the forests at night? Fuck that shit, I wouldn't even leave my house!\"]),\n",
       " Row(subreddit=u'tifu', _c1=[u\"What're you talking about?\"]),\n",
       " Row(subreddit=u'Games', _c1=[u'If you enjoy deep, 100 hour RPGs, then definitely worth the money.', u'[deleted]']),\n",
       " Row(subreddit=u'GCXRep', _c1=[u'[deleted]']),\n",
       " Row(subreddit=u'summonerschool', _c1=[u'Is the IE-Shiv-Ghostblade-Zerks-LW-BT Still not the main graves build? 60% crit I think massive Attack speed and decent AD plus Pen?']),\n",
       " Row(subreddit=u'badkarma', _c1=[u'http://i.imgur.com/4ZDga3w.jpg']),\n",
       " Row(subreddit=u'LSD', _c1=[u\"I completely agree. I've spent that long staring at it sober..\"]),\n",
       " Row(subreddit=u'Android', _c1=[u'I just wish Google dropped support for Android &lt; 4.0 already. ']),\n",
       " Row(subreddit=u'childfree', _c1=[u\"People should just stop saying this phrase entirely. It's too invasive. There are many reasons why it might be hurtful. Maybe the person doesn't want kids, or maybe they *can't* have them, or maybe they recently tried and failed! You can't possibly know how a person feels about being a parent or childbearing unless you are an intimate friend. \\n\\nWhen it comes to genetics, people are downright idiotic about it. I inherited a bunch of stuff from my mom that is expensive, painful, and will bother me my entire life. Luckily I have good insurance. I had an autoimmune disease as a kid that almost killed me. If I were trying to create healthy, happy babies, I would not have suggested my parents get together, given the history of depression and early degenerative joint disease on both sides. The thing is, they believe it's their *right* to procreate. They're not thinking about it rationally.\"]),\n",
       " Row(subreddit=u'WTF', _c1=[u'The guy is a professional, and very good at what he does. I highly doubt he misses often, if at all.', u'My math prof doesn\\'t do rides, he says \"look at the people who put those rides together, theyre all stoned\"']),\n",
       " Row(subreddit=u'worldnews', _c1=[u'The vast majority of countries in the world recognize the state of Palestine btw, in addition to the state of Israel.']),\n",
       " Row(subreddit=u'Wishlist', _c1=[u'AS YOU WISH!!!!']),\n",
       " Row(subreddit=u'needadvice', _c1=[u\"This is a great question, and I want to thank you for asking it. However, I don't have any answers. I'm interested in learning more myself. \"]),\n",
       " Row(subreddit=u'Insurance', _c1=[u'My health insurance covered my wisdom teeth as opposed to my dental insurance. I think it depends on what type of doctor does the procedure. The one who did mine was some type of specialist, not a dentist. Might want to ask your dentist about this and get referred out. ']),\n",
       " Row(subreddit=u'funny', _c1=[u'/r/Im14andthisisfunny', u'Wheredugit?', u'[deleted]', u'I really wish I could do this. Enjoy it man. Glad to hear this is a tradition you have still alive. ']),\n",
       " Row(subreddit=u'changemyview', _c1=[u\"&gt;&gt;If a woman wants to give up a child for adoption with a named father, she is unable to do so without the father's consent.\\n\\n&gt;That is easy enough to do. Simply don't name the father.\\n\\nWomen are *only* not financially responsible *if* there is no named father. If the father isn't named, he's not on the hook for child support either, so *it doesn't matter*.\\n\\nYou're deliberately removing context and responding to sentences that go together to form an overall argument separately in a way that does not make sense. At this point you're being intentionally misleading to twist this into what you want it to be instead of actually participating in the spirit of the argument. \"]),\n",
       " Row(subreddit=u'BMW', _c1=[u'Chappelle: https://www.youtube.com/watch?v=4B93BoC9ylg']),\n",
       " Row(subreddit=u'NSFW_GIF', _c1=[u'Made a multiscreen video in Sony Vegas then converted it into a WEBM']),\n",
       " Row(subreddit=u'CanadaPolitics', _c1=[u\"But Mill's career was way better. Bentham is like, the Joseph Smith to Mill's Brigham Young.\"]),\n",
       " Row(subreddit=u'twinks', _c1=[u'I love your piercing']),\n",
       " Row(subreddit=u'casualiama', _c1=[u'What kind of shoes?']),\n",
       " Row(subreddit=u'falcons', _c1=[u\"Haha guilty. But I've heard some people say they weren't thrilled about guys like McDaniels and Del Rio as well. Won't pass judgement until I see how this all plays out\"]),\n",
       " Row(subreddit=u'hockey', _c1=[u'I always forget how to bold on mobile. ', u\"He didn't really make much contact, he didn't stop the goalie from making the save. Also, when the puck is in the crease, it's fair game. \"]),\n",
       " Row(subreddit=u'wow', _c1=[u'I like this idea, though just to confirm though technically if 6 bosses dropped loot you needed but lost, does that mean you get 24 counter points?\\n\\nIf you lose even using counters, does that mean its lost for the duration of the raid? Like\\n\\nKargath drops something you need, lose loot, get +4 on roll, butcher drops weapon, you still lose, does the counter apply or would you get +8 for the next boss as you still lost?']),\n",
       " Row(subreddit=u'dayz', _c1=[u\"Unfortunately at this time of point you can have the best CPU, GPU available to buy and you still would not get 30 FPS in Cities. The game is only optimized for specific CPU's and GPU's that the developers use.\"]),\n",
       " Row(subreddit=u'MakeupAddiction', _c1=[u'Thanks! Now on to NYE makeup!']),\n",
       " Row(subreddit=u'exmormon', _c1=[u'Most of us have some family members like this. *Most* of my family is like this. ']),\n",
       " Row(subreddit=u'sausagetalk', _c1=[u\"I don't know how to describe it.  Gently pinched two spots weiner length apart and just twisted them about 3or 4 times.\"]),\n",
       " Row(subreddit=u'BostonBruins', _c1=[u':D.']),\n",
       " Row(subreddit=u'AskReddit', _c1=[u'Roofers, the only people on a job site more savage than the rock people.', u\"I don't know 100% why, but, for me, I delete comments if I was wrong about something. Like, if I misread a question and answered what I misread or I misinterpreted something. I'm not going to delete it just because I got 299\\u2640489242049t4bit43\\u2665 downvotes. \", u'Have You Tried Turning It Off And On Again?', u'My Great to the power of 6 ..or 7 grandfather came over here from Germany around 1776. On the ship ride over his mother dies. \\n\\nTwo weeks off the boat his father dies. He was only around 9 years old. \\n\\nHe then was sold as an \"indigent servant\" he earned his independence by fighting in the revolutionary war. \\n\\nHe moved from ohio to near Pittsburgh, lived to be 101 years old.  ', u'/r/firstworldavjafmasdlfja']),\n",
       " Row(subreddit=u'Cardinals', _c1=[u'Hey! That was made at one of my stores!']),\n",
       " Row(subreddit=u'explainlikeimfive', _c1=[u'i love this music!']),\n",
       " Row(subreddit=u'BabyBumps', _c1=[u'I thought you wanted to name your baby Primrose. I was like, \"hmm, I don\\'t hate it.\"']),\n",
       " Row(subreddit=u'AdviceAnimals', _c1=[u'Mine uses a strait razor, and as much as i love the clippers i love the razor so much more. Then he follows it up with a warm towel. \\nI think i might go get a hair cut this week.', u'[deleted]']),\n",
       " Row(subreddit=u'HannibalTV', _c1=[u\"Agreed! You should get it while it's on sale. \"]),\n",
       " Row(subreddit=u'todayilearned', _c1=[u\"You hear that SDSS J122952.66+112227.8? We heard you were talking shit and now we're coming for ya!\"]),\n",
       " Row(subreddit=u'BBW', _c1=[u'[deleted]']),\n",
       " Row(subreddit=u'Stacked', _c1=[u'Yes.']),\n",
       " Row(subreddit=u'knives', _c1=[u'Haha awesome man I got it from my grandpa this Christmas as well.']),\n",
       " Row(subreddit=u'Portland', _c1=[u'Makes sense.  Hopefully by April Novick will **FINAL**ly be able to come up with a **SOLUTION** to the Uber driver question.']),\n",
       " Row(subreddit=u'headphones', _c1=[u\"There probably wouldn't even be any talking. A couple shots, then calmly walk away as the smoke clears, counting all his upvotes.\"]),\n",
       " Row(subreddit=u'gwcumsluts', _c1=[u'Really awesome. I especially liked the glasses picture. ']),\n",
       " Row(subreddit=u'beertrade', _c1=[u\"I haven't. Still trying to get someone to commit. \\n\\nWhere are you located?\"]),\n",
       " Row(subreddit=u'movies', _c1=[u'Goonies']),\n",
       " Row(subreddit=u'Celebs', _c1=[u'How about words like awesome, smashed, decimate, action (as a verb), blasting, roasting, cute, unique, liaise, to name just a few? The English language is a constantly-evolving bastardised amalgamated hodgepodge so you best just learn to accept it.']),\n",
       " Row(subreddit=u'pokemontrades', _c1=[u'Can I please take the Modest one?']),\n",
       " Row(subreddit=u'mildlyinfuriating', _c1=[u'#####&amp;#009;\\n\\n######&amp;#009;\\n\\n####&amp;#009;\\n [**Brutalist architecture**](https://en.wikipedia.org/wiki/Brutalist%20architecture): [](#sfw) \\n\\n---\\n\\n&gt;\\n\\n&gt;__Brutalist architecture__ is a movement in architecture that flourished from the 1950s to the mid-1970s, descended from the [modernist architectural](https://en.wikipedia.org/wiki/Modern_architecture) movement of the early 20th century. The term does not derive from the word \"brutal\", but originates from the French *b\\xe9ton brut*, or \"raw concrete\", a term used by [Le Corbusier](https://en.wikipedia.org/wiki/Le_Corbusier) to describe his choice of material. [British architectural](https://en.wikipedia.org/wiki/Architecture_of_the_United_Kingdom) critic [Reyner Banham](https://en.wikipedia.org/wiki/Reyner_Banham) adapted the term into \"brutalism\" (originally \"New Brutalism\") to identify the emerging style.\\n\\n&gt;Brutalism became popular with governmental and institutional clients, with numerous examples in Britain, France, Germany, Japan, the United States, Canada, Brazil, the Philippines, and Australia. Examples are typically massive in character (even when not large), [fortress-like](https://en.wikipedia.org/wiki/Fortification), with a predominance of exposed [concrete](https://en.wikipedia.org/wiki/Concrete) construction, or in the case of the \"brick brutalists\" ruggedly detailed brickwork and concrete together. There is often an emphasis on graphically expressing in the external elevations and in the whole-site plan the main functions and people-flows of the buildings. Brutalism became popular for educational buildings (especially university buildings), but was relatively rare for corporate projects. Brutalism became favoured for many government projects, high-rise housing, and [shopping centres](https://en.wikipedia.org/wiki/Shopping_mall) to create an architectural image that communicated strength, functionality, and frank expression of materiality.\\n\\n&gt;In its ruggedness and lack of concern to look comfortable or easy, Brutalism can be seen as a reaction by a younger generation to the lightness, optimism, and frivolity of some 1930s and 1940s architecture. In one critical appraisal by Banham, Brutalism was posited not as a style at all but as the expression of an atmosphere among architects of moral seriousness. \"Brutalism\" as an architectural critical term was not always consistently used by critics; architects themselves usually avoided using it altogether. More recently, \"brutalism\" has become used in popular discourse to refer to buildings of the late twentieth century that are large or unpopular \\u2013 as a synonym for \"brutal\" \\u2013 making its effective use in architectural historical discourse problematic.\\n\\n&gt;====\\n\\n&gt;[**Image**](https://i.imgur.com/bk21nrm.jpg) [^(i)](https://commons.wikimedia.org/wiki/File:DHHS2_by_Matthew_Bisanz.JPG) - *Hubert H. Humphrey Building, headquarters of the U.S. Department of Health and Human Services, Washington, D. C.*\\n\\n---\\n\\n^Interesting: [^The ^Michener ^Institute](https://en.wikipedia.org/wiki/The_Michener_Institute) ^| [^Regenstein ^Library](https://en.wikipedia.org/wiki/Regenstein_Library) ^| [^Bradfield ^Hall](https://en.wikipedia.org/wiki/Bradfield_Hall) ^| [^Murray ^D. ^Lincoln ^Campus ^Center](https://en.wikipedia.org/wiki/Murray_D._Lincoln_Campus_Center) \\n\\n^Parent ^commenter ^can [^toggle ^NSFW](/message/compose?to=autowikibot&amp;subject=AutoWikibot NSFW toggle&amp;message=%2Btoggle-nsfw+cnas92m) ^or[](#or) [^delete](/message/compose?to=autowikibot&amp;subject=AutoWikibot Deletion&amp;message=%2Bdelete+cnas92m)^. ^Will ^also ^delete ^on ^comment ^score ^of ^-1 ^or ^less. ^| [^(FAQs)](http://www.np.reddit.com/r/autowikibot/wiki/index) ^| [^Mods](http://www.np.reddit.com/r/autowikibot/comments/1x013o/for_moderators_switches_commands_and_css/) ^| [^Magic ^Words](http://www.np.reddit.com/r/autowikibot/comments/1ux484/ask_wikibot/)']),\n",
       " Row(subreddit=u'nfl', _c1=[u'The Orton effect.']),\n",
       " Row(subreddit=u'thelastofus', _c1=[u\"SUPREME UNLEADED!\\n\\nIs that a real label for gas anywhere? I've never seen it. Just Regular, Super Unleaded, and Premium.\"]),\n",
       " Row(subreddit=u'RandomActsOfSTC', _c1=[u'Yes please!']),\n",
       " Row(subreddit=u'randomsuperpowers', _c1=[u'[Slightly stronger than an RPG.]']),\n",
       " Row(subreddit=u'freedonuts', _c1=[u'Very fast, thank you!']),\n",
       " Row(subreddit=u'Reformed', _c1=[u'I love it.  Okay, based upon point (6), is it right for a Christian to say, \"it is not me doing the sin, but sin in me\" [Romans 7:17]?  Or is the passage saying something quite different than what Ryle understands it to mean?']),\n",
       " Row(subreddit=u'EverythingScience', _c1=[u\"I'm just going to leave this here.\\n\\n\\n*Puff*erfish\"]),\n",
       " Row(subreddit=u'Autos', _c1=[u\"Dodge Rampage, pretty much any pre-80s Japanese cars, original VW Scirocco, Porsche 928, clean old Beetles, any Nissan Z series but that's more understandable. \\n\\nOh, and FJ Cruisers. They're just neat. \"]),\n",
       " Row(subreddit=u'news', _c1=[u\"You are a gentleman and a scholar...  I don't know why this is such a fucking hard concept to understand for some people. The police are part of society, not above it.\", u\"And old people died.  It's hard to pin the guilt on a sweet old couple.  \", u'It was illegal enough to get roughed up a bit and detained for a while. ']),\n",
       " Row(subreddit=u'Seattle', _c1=[u'Great shot! Would you happen to have a higher, wallpaper-sized copy?']),\n",
       " Row(subreddit=u'pokemon', _c1=[u'Then I guess it sucks to suck']),\n",
       " Row(subreddit=u'MLPLounge', _c1=[u'[](/hellohuman)MS paint plagiarism is best plagiarism!', u\"It's been very helpful in this thread.\", u'Mind sharing some senpai for the rest of us? I think you could share some from you 7+ billion person harem.']),\n",
       " Row(subreddit=u'pics', _c1=[u'Tumblr is leaking again.']),\n",
       " Row(subreddit=u'GrandTheftAutoV', _c1=[u'\"Hey Rocky, Watch me board this train.\" \\n\"Again?\"\\n\"Presto!\"']),\n",
       " Row(subreddit=u'Mustang', _c1=[u'[deleted]']),\n",
       " Row(subreddit=u'TumblrInAction', _c1=[u\"It's a religion that doesn't have a set in stone creed. so I'm assuming there's a few more.\"]),\n",
       " Row(subreddit=u'techsupport', _c1=[u'it is either a power issue ,or dead mainboard i suspect   \\nor a short from mainboard to case']),\n",
       " Row(subreddit=u'curvy', _c1=[u'Karina Hart?']),\n",
       " Row(subreddit=u'guitarpedals', _c1=[u'Thank you, I certainly am!']),\n",
       " Row(subreddit=u'devils', _c1=[u\"I'll try to find a good pair at my NYE party. Will report back. \"]),\n",
       " Row(subreddit=u'Smite', _c1=[u'Finish my Masters grind for 1v1 Joust', u\"Buy everything and line Hi-Rez's pockets with money\"]),\n",
       " Row(subreddit=u'Naruto', _c1=[u'You mean the village hidden in filler complaints, right?']),\n",
       " Row(subreddit=u'videos', _c1=[u'OP is John Travolta. [Adele Dazeem](https://www.youtube.com/watch?v=rECG1Wlb-lA)']),\n",
       " Row(subreddit=u'Metroid', _c1=[u\"This is a tough question. I play Metroid for the exploration and isolation, but there's a lot of potential with the sci-fi setting and various bounty hunters. I would be pleased with multiplayer(online), but only if it didn't take away from the singleplayer and has potential.\"]),\n",
       " Row(subreddit=u'MLS', _c1=[u\"A lot of disrespecting of the league today.  Do you think we'll eventually need to see Garber publicly reprimanding the NYCFC ownership group (doubt it would happen though)?  \"])]"
      ]
     },
     "execution_count": 10,
     "metadata": {},
     "output_type": "execute_result"
    }
   ],
   "source": [
    "sub_com.collect()"
   ]
  },
  {
   "cell_type": "code",
   "execution_count": null,
   "metadata": {
    "collapsed": true
   },
   "outputs": [],
   "source": [
    "sub_com.filter()"
   ]
  },
  {
   "cell_type": "code",
   "execution_count": null,
   "metadata": {
    "collapsed": true
   },
   "outputs": [],
   "source": []
  },
  {
   "cell_type": "code",
   "execution_count": 1,
   "metadata": {
    "collapsed": true
   },
   "outputs": [],
   "source": [
    "from pyspark import SparkContext\n",
    "from pyspark.sql import SQLContext\n",
    "\n",
    "sc = SparkContext('local[4]')\n",
    "sqlc = SQLContext(sc)"
   ]
  },
  {
   "cell_type": "code",
   "execution_count": 2,
   "metadata": {
    "collapsed": true
   },
   "outputs": [],
   "source": [
    "# A JSON dataset is pointed to by path.\n",
    "# The path can be either a single text file or a directory storing text files.\n",
    "\n",
    "# First 100 comments\n",
    "path = \"/Users/marci/Desktop/sample100.txt\""
   ]
  },
  {
   "cell_type": "code",
   "execution_count": 44,
   "metadata": {
    "collapsed": false
   },
   "outputs": [],
   "source": [
    "# Create a SchemaRDD from the file(s) pointed to by path\n",
    "comments = sqlc.read.json(path)"
   ]
  },
  {
   "cell_type": "code",
   "execution_count": 45,
   "metadata": {
    "collapsed": false
   },
   "outputs": [
    {
     "name": "stdout",
     "output_type": "stream",
     "text": [
      "root\n",
      " |-- archived: boolean (nullable = true)\n",
      " |-- author: string (nullable = true)\n",
      " |-- author_flair_css_class: string (nullable = true)\n",
      " |-- author_flair_text: string (nullable = true)\n",
      " |-- body: string (nullable = true)\n",
      " |-- controversiality: long (nullable = true)\n",
      " |-- created_utc: string (nullable = true)\n",
      " |-- distinguished: string (nullable = true)\n",
      " |-- downs: long (nullable = true)\n",
      " |-- edited: string (nullable = true)\n",
      " |-- gilded: long (nullable = true)\n",
      " |-- id: string (nullable = true)\n",
      " |-- link_id: string (nullable = true)\n",
      " |-- name: string (nullable = true)\n",
      " |-- parent_id: string (nullable = true)\n",
      " |-- retrieved_on: long (nullable = true)\n",
      " |-- score: long (nullable = true)\n",
      " |-- score_hidden: boolean (nullable = true)\n",
      " |-- subreddit: string (nullable = true)\n",
      " |-- subreddit_id: string (nullable = true)\n",
      " |-- ups: long (nullable = true)\n",
      "\n"
     ]
    }
   ],
   "source": [
    "comments.printSchema()"
   ]
  },
  {
   "cell_type": "code",
   "execution_count": 46,
   "metadata": {
    "collapsed": false
   },
   "outputs": [],
   "source": [
    "# Set DataFrame to Temp SQL Table\n",
    "comments.registerTempTable('comments')"
   ]
  },
  {
   "cell_type": "code",
   "execution_count": 17,
   "metadata": {
    "collapsed": false
   },
   "outputs": [],
   "source": [
    "# Count number of comments\n",
    "num_of_comments = sqlc.sql(\"SELECT COUNT(*) FROM comments\")"
   ]
  },
  {
   "cell_type": "code",
   "execution_count": 20,
   "metadata": {
    "collapsed": false
   },
   "outputs": [
    {
     "data": {
      "text/plain": [
       "[Row(c0=100)]"
      ]
     },
     "execution_count": 20,
     "metadata": {},
     "output_type": "execute_result"
    }
   ],
   "source": [
    "# Show\n",
    "num_of_comments.collect()"
   ]
  },
  {
   "cell_type": "markdown",
   "metadata": {},
   "source": [
    "### Now let's try counting number of comments per subreddits."
   ]
  },
  {
   "cell_type": "code",
   "execution_count": 22,
   "metadata": {
    "collapsed": false
   },
   "outputs": [],
   "source": [
    "subs = comments.groupBy('subreddit')"
   ]
  },
  {
   "cell_type": "code",
   "execution_count": 43,
   "metadata": {
    "collapsed": false
   },
   "outputs": [],
   "source": [
    "#subs.count().collect()"
   ]
  },
  {
   "cell_type": "code",
   "execution_count": 42,
   "metadata": {
    "collapsed": false
   },
   "outputs": [],
   "source": [
    "#subs.sum().collect()"
   ]
  },
  {
   "cell_type": "code",
   "execution_count": 49,
   "metadata": {
    "collapsed": false
   },
   "outputs": [],
   "source": [
    "final = sqlc.sql(\"SELECT subreddit  , COLLECT_LIST(body)FROM comments GROUP BY subreddit\").collect()"
   ]
  },
  {
   "cell_type": "code",
   "execution_count": 38,
   "metadata": {
    "collapsed": false
   },
   "outputs": [
    {
     "ename": "TypeError",
     "evalue": "createDataFrame() takes at least 2 arguments (1 given)",
     "output_type": "error",
     "traceback": [
      "\u001b[0;31m---------------------------------------------------------------------------\u001b[0m",
      "\u001b[0;31mTypeError\u001b[0m                                 Traceback (most recent call last)",
      "\u001b[0;32m<ipython-input-38-417208e3258e>\u001b[0m in \u001b[0;36m<module>\u001b[0;34m()\u001b[0m\n\u001b[1;32m      1\u001b[0m \u001b[0;31m# Alternatively, a DataFrame can be created for a JSON dataset represented by\u001b[0m\u001b[0;34m\u001b[0m\u001b[0;34m\u001b[0m\u001b[0m\n\u001b[1;32m      2\u001b[0m \u001b[0;31m# an RDD[String] storing one JSON object per string.\u001b[0m\u001b[0;34m\u001b[0m\u001b[0;34m\u001b[0m\u001b[0m\n\u001b[0;32m----> 3\u001b[0;31m \u001b[0msqlc\u001b[0m\u001b[0;34m.\u001b[0m\u001b[0mcreateDataFrame\u001b[0m\u001b[0;34m(\u001b[0m\u001b[0;34m)\u001b[0m\u001b[0;34m\u001b[0m\u001b[0m\n\u001b[0m",
      "\u001b[0;31mTypeError\u001b[0m: createDataFrame() takes at least 2 arguments (1 given)"
     ]
    }
   ],
   "source": [
    "# Alternatively, a DataFrame can be created for a JSON dataset represented by\n",
    "# an RDD[String] storing one JSON object per string.\n",
    "sqlc."
   ]
  },
  {
   "cell_type": "code",
   "execution_count": null,
   "metadata": {
    "collapsed": true
   },
   "outputs": [],
   "source": []
  }
 ],
 "metadata": {
  "kernelspec": {
   "display_name": "Python 2",
   "language": "python",
   "name": "python2"
  },
  "language_info": {
   "codemirror_mode": {
    "name": "ipython",
    "version": 2
   },
   "file_extension": ".py",
   "mimetype": "text/x-python",
   "name": "python",
   "nbconvert_exporter": "python",
   "pygments_lexer": "ipython2",
   "version": "2.7.10"
  }
 },
 "nbformat": 4,
 "nbformat_minor": 0
}
